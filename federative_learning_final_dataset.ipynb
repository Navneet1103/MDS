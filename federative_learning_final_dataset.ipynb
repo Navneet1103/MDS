{
 "cells": [
  {
   "cell_type": "code",
   "execution_count": 1,
   "metadata": {},
   "outputs": [],
   "source": [
    "import numpy as np\n",
    "import pandas as pd\n",
    "import random\n",
    "import os\n",
    "from tensorflow.keras.utils import to_categorical\n",
    "\n",
    "from sklearn.metrics import recall_score\n",
    "from sklearn.metrics import accuracy_score, precision_recall_curve, precision_score, recall_score, average_precision_score,cohen_kappa_score,matthews_corrcoef\n",
    "\n",
    "import tensorflow as tf\n",
    "from tensorflow.keras.models import Sequential\n",
    "from tensorflow.keras.layers import Dense, Dropout\n",
    "from tensorflow.keras.optimizers import Adam\n",
    "from tensorflow.keras import backend as K\n",
    "import matplotlib.pyplot as plt\n",
    "from sklearn.preprocessing import StandardScaler"
   ]
  },
  {
   "cell_type": "code",
   "execution_count": 5,
   "metadata": {},
   "outputs": [
    {
     "data": {
      "text/html": [
       "<div>\n",
       "<style scoped>\n",
       "    .dataframe tbody tr th:only-of-type {\n",
       "        vertical-align: middle;\n",
       "    }\n",
       "\n",
       "    .dataframe tbody tr th {\n",
       "        vertical-align: top;\n",
       "    }\n",
       "\n",
       "    .dataframe thead th {\n",
       "        text-align: right;\n",
       "    }\n",
       "</style>\n",
       "<table border=\"1\" class=\"dataframe\">\n",
       "  <thead>\n",
       "    <tr style=\"text-align: right;\">\n",
       "      <th></th>\n",
       "      <th>Unnamed: 0</th>\n",
       "      <th>rcvTime</th>\n",
       "      <th>sendTime</th>\n",
       "      <th>senderPseudo</th>\n",
       "      <th>messageID</th>\n",
       "      <th>pos_x</th>\n",
       "      <th>pos_y</th>\n",
       "      <th>spd_x</th>\n",
       "      <th>spd_y</th>\n",
       "      <th>acl_x</th>\n",
       "      <th>acl_y</th>\n",
       "      <th>hed_x</th>\n",
       "      <th>hed_y</th>\n",
       "      <th>nttack</th>\n",
       "    </tr>\n",
       "  </thead>\n",
       "  <tbody>\n",
       "    <tr>\n",
       "      <th>0</th>\n",
       "      <td>0</td>\n",
       "      <td>25208.058553</td>\n",
       "      <td>25208.058553</td>\n",
       "      <td>10152.0</td>\n",
       "      <td>16924.0</td>\n",
       "      <td>136.194253</td>\n",
       "      <td>1117.140023</td>\n",
       "      <td>0.216103</td>\n",
       "      <td>-2.305897</td>\n",
       "      <td>0.138614</td>\n",
       "      <td>-1.479031</td>\n",
       "      <td>0.092531</td>\n",
       "      <td>-0.99571</td>\n",
       "      <td>1.0</td>\n",
       "    </tr>\n",
       "    <tr>\n",
       "      <th>1</th>\n",
       "      <td>1</td>\n",
       "      <td>25208.225220</td>\n",
       "      <td>25208.225220</td>\n",
       "      <td>10152.0</td>\n",
       "      <td>16982.0</td>\n",
       "      <td>136.194253</td>\n",
       "      <td>1117.140023</td>\n",
       "      <td>0.216103</td>\n",
       "      <td>-2.305897</td>\n",
       "      <td>0.138614</td>\n",
       "      <td>-1.479031</td>\n",
       "      <td>0.092531</td>\n",
       "      <td>-0.99571</td>\n",
       "      <td>1.0</td>\n",
       "    </tr>\n",
       "    <tr>\n",
       "      <th>2</th>\n",
       "      <td>2</td>\n",
       "      <td>25208.391887</td>\n",
       "      <td>25208.391887</td>\n",
       "      <td>10152.0</td>\n",
       "      <td>17000.0</td>\n",
       "      <td>136.194253</td>\n",
       "      <td>1117.140023</td>\n",
       "      <td>0.216103</td>\n",
       "      <td>-2.305897</td>\n",
       "      <td>0.138614</td>\n",
       "      <td>-1.479031</td>\n",
       "      <td>0.092531</td>\n",
       "      <td>-0.99571</td>\n",
       "      <td>1.0</td>\n",
       "    </tr>\n",
       "    <tr>\n",
       "      <th>3</th>\n",
       "      <td>3</td>\n",
       "      <td>25208.558554</td>\n",
       "      <td>25208.558554</td>\n",
       "      <td>10152.0</td>\n",
       "      <td>17018.0</td>\n",
       "      <td>136.194253</td>\n",
       "      <td>1117.140023</td>\n",
       "      <td>0.216103</td>\n",
       "      <td>-2.305897</td>\n",
       "      <td>0.138614</td>\n",
       "      <td>-1.479031</td>\n",
       "      <td>0.092531</td>\n",
       "      <td>-0.99571</td>\n",
       "      <td>1.0</td>\n",
       "    </tr>\n",
       "    <tr>\n",
       "      <th>4</th>\n",
       "      <td>4</td>\n",
       "      <td>25208.725221</td>\n",
       "      <td>25208.725221</td>\n",
       "      <td>10152.0</td>\n",
       "      <td>17048.0</td>\n",
       "      <td>136.194253</td>\n",
       "      <td>1117.140023</td>\n",
       "      <td>0.216103</td>\n",
       "      <td>-2.305897</td>\n",
       "      <td>0.138614</td>\n",
       "      <td>-1.479031</td>\n",
       "      <td>0.092531</td>\n",
       "      <td>-0.99571</td>\n",
       "      <td>1.0</td>\n",
       "    </tr>\n",
       "  </tbody>\n",
       "</table>\n",
       "</div>"
      ],
      "text/plain": [
       "   Unnamed: 0       rcvTime      sendTime  senderPseudo  messageID  \\\n",
       "0           0  25208.058553  25208.058553       10152.0    16924.0   \n",
       "1           1  25208.225220  25208.225220       10152.0    16982.0   \n",
       "2           2  25208.391887  25208.391887       10152.0    17000.0   \n",
       "3           3  25208.558554  25208.558554       10152.0    17018.0   \n",
       "4           4  25208.725221  25208.725221       10152.0    17048.0   \n",
       "\n",
       "        pos_x        pos_y     spd_x     spd_y     acl_x     acl_y     hed_x  \\\n",
       "0  136.194253  1117.140023  0.216103 -2.305897  0.138614 -1.479031  0.092531   \n",
       "1  136.194253  1117.140023  0.216103 -2.305897  0.138614 -1.479031  0.092531   \n",
       "2  136.194253  1117.140023  0.216103 -2.305897  0.138614 -1.479031  0.092531   \n",
       "3  136.194253  1117.140023  0.216103 -2.305897  0.138614 -1.479031  0.092531   \n",
       "4  136.194253  1117.140023  0.216103 -2.305897  0.138614 -1.479031  0.092531   \n",
       "\n",
       "     hed_y  nttack  \n",
       "0 -0.99571     1.0  \n",
       "1 -0.99571     1.0  \n",
       "2 -0.99571     1.0  \n",
       "3 -0.99571     1.0  \n",
       "4 -0.99571     1.0  "
      ]
     },
     "execution_count": 5,
     "metadata": {},
     "output_type": "execute_result"
    }
   ],
   "source": [
    "# import 1416 training dataset\n",
    "df_train = pd.read_csv(r\"D:\\Data Analytics for Business\\SEM 4\\DAB402 Capstone Project\\final_trainingset.csv\")\n",
    "df_train.head()"
   ]
  },
  {
   "cell_type": "code",
   "execution_count": 6,
   "metadata": {},
   "outputs": [
    {
     "data": {
      "text/html": [
       "<div>\n",
       "<style scoped>\n",
       "    .dataframe tbody tr th:only-of-type {\n",
       "        vertical-align: middle;\n",
       "    }\n",
       "\n",
       "    .dataframe tbody tr th {\n",
       "        vertical-align: top;\n",
       "    }\n",
       "\n",
       "    .dataframe thead th {\n",
       "        text-align: right;\n",
       "    }\n",
       "</style>\n",
       "<table border=\"1\" class=\"dataframe\">\n",
       "  <thead>\n",
       "    <tr style=\"text-align: right;\">\n",
       "      <th></th>\n",
       "      <th>Unnamed: 0</th>\n",
       "      <th>rcvTime</th>\n",
       "      <th>sendTime</th>\n",
       "      <th>senderPseudo</th>\n",
       "      <th>messageID</th>\n",
       "      <th>pos_x</th>\n",
       "      <th>pos_y</th>\n",
       "      <th>spd_x</th>\n",
       "      <th>spd_y</th>\n",
       "      <th>acl_x</th>\n",
       "      <th>acl_y</th>\n",
       "      <th>hed_x</th>\n",
       "      <th>hed_y</th>\n",
       "      <th>nttack</th>\n",
       "    </tr>\n",
       "  </thead>\n",
       "  <tbody>\n",
       "    <tr>\n",
       "      <th>0</th>\n",
       "      <td>5580128</td>\n",
       "      <td>50518.792049</td>\n",
       "      <td>50518.792049</td>\n",
       "      <td>202915.0</td>\n",
       "      <td>532175.0</td>\n",
       "      <td>144.464465</td>\n",
       "      <td>930.876860</td>\n",
       "      <td>0.156174</td>\n",
       "      <td>-2.183978</td>\n",
       "      <td>0.162077</td>\n",
       "      <td>-2.186094</td>\n",
       "      <td>0.070178</td>\n",
       "      <td>-0.997535</td>\n",
       "      <td>1.0</td>\n",
       "    </tr>\n",
       "    <tr>\n",
       "      <th>1</th>\n",
       "      <td>5580129</td>\n",
       "      <td>50518.801205</td>\n",
       "      <td>50518.801205</td>\n",
       "      <td>401715.0</td>\n",
       "      <td>532225.0</td>\n",
       "      <td>854.081340</td>\n",
       "      <td>432.132793</td>\n",
       "      <td>0.164967</td>\n",
       "      <td>0.041049</td>\n",
       "      <td>0.159764</td>\n",
       "      <td>0.045936</td>\n",
       "      <td>0.966307</td>\n",
       "      <td>0.257393</td>\n",
       "      <td>1.0</td>\n",
       "    </tr>\n",
       "    <tr>\n",
       "      <th>2</th>\n",
       "      <td>5580130</td>\n",
       "      <td>50518.801205</td>\n",
       "      <td>50518.801205</td>\n",
       "      <td>401715.0</td>\n",
       "      <td>532225.0</td>\n",
       "      <td>854.081340</td>\n",
       "      <td>432.132793</td>\n",
       "      <td>0.164967</td>\n",
       "      <td>0.041049</td>\n",
       "      <td>0.159764</td>\n",
       "      <td>0.045936</td>\n",
       "      <td>0.966307</td>\n",
       "      <td>0.257393</td>\n",
       "      <td>1.0</td>\n",
       "    </tr>\n",
       "    <tr>\n",
       "      <th>3</th>\n",
       "      <td>5580131</td>\n",
       "      <td>50518.801205</td>\n",
       "      <td>50518.801205</td>\n",
       "      <td>401715.0</td>\n",
       "      <td>532225.0</td>\n",
       "      <td>854.081340</td>\n",
       "      <td>432.132793</td>\n",
       "      <td>0.164967</td>\n",
       "      <td>0.041049</td>\n",
       "      <td>0.159764</td>\n",
       "      <td>0.045936</td>\n",
       "      <td>0.966307</td>\n",
       "      <td>0.257393</td>\n",
       "      <td>1.0</td>\n",
       "    </tr>\n",
       "    <tr>\n",
       "      <th>4</th>\n",
       "      <td>5580132</td>\n",
       "      <td>50518.805879</td>\n",
       "      <td>50518.805879</td>\n",
       "      <td>301535.0</td>\n",
       "      <td>532365.0</td>\n",
       "      <td>719.507467</td>\n",
       "      <td>825.450082</td>\n",
       "      <td>-0.329691</td>\n",
       "      <td>0.265323</td>\n",
       "      <td>-0.340650</td>\n",
       "      <td>0.252613</td>\n",
       "      <td>-0.543654</td>\n",
       "      <td>0.839309</td>\n",
       "      <td>1.0</td>\n",
       "    </tr>\n",
       "  </tbody>\n",
       "</table>\n",
       "</div>"
      ],
      "text/plain": [
       "   Unnamed: 0       rcvTime      sendTime  senderPseudo  messageID  \\\n",
       "0     5580128  50518.792049  50518.792049      202915.0   532175.0   \n",
       "1     5580129  50518.801205  50518.801205      401715.0   532225.0   \n",
       "2     5580130  50518.801205  50518.801205      401715.0   532225.0   \n",
       "3     5580131  50518.801205  50518.801205      401715.0   532225.0   \n",
       "4     5580132  50518.805879  50518.805879      301535.0   532365.0   \n",
       "\n",
       "        pos_x       pos_y     spd_x     spd_y     acl_x     acl_y     hed_x  \\\n",
       "0  144.464465  930.876860  0.156174 -2.183978  0.162077 -2.186094  0.070178   \n",
       "1  854.081340  432.132793  0.164967  0.041049  0.159764  0.045936  0.966307   \n",
       "2  854.081340  432.132793  0.164967  0.041049  0.159764  0.045936  0.966307   \n",
       "3  854.081340  432.132793  0.164967  0.041049  0.159764  0.045936  0.966307   \n",
       "4  719.507467  825.450082 -0.329691  0.265323 -0.340650  0.252613 -0.543654   \n",
       "\n",
       "      hed_y  nttack  \n",
       "0 -0.997535     1.0  \n",
       "1  0.257393     1.0  \n",
       "2  0.257393     1.0  \n",
       "3  0.257393     1.0  \n",
       "4  0.839309     1.0  "
      ]
     },
     "execution_count": 6,
     "metadata": {},
     "output_type": "execute_result"
    }
   ],
   "source": [
    "# import 1416 test dataset\n",
    "df_test =pd.read_csv(r\"D:\\Data Analytics for Business\\SEM 4\\DAB402 Capstone Project\\final_testset.csv\")\n",
    "df_test.head()"
   ]
  },
  {
   "cell_type": "code",
   "execution_count": 7,
   "metadata": {},
   "outputs": [],
   "source": [
    "# Converting attacker columns from float to integer\n",
    "df_train['nttack'] = df_train['nttack'].astype(np.int64)\n",
    "df_test['nttack'] = df_test['nttack'].astype(np.int64)"
   ]
  },
  {
   "cell_type": "code",
   "execution_count": 8,
   "metadata": {},
   "outputs": [
    {
     "name": "stdout",
     "output_type": "stream",
     "text": [
      "<class 'pandas.core.frame.DataFrame'>\n",
      "RangeIndex: 5580128 entries, 0 to 5580127\n",
      "Data columns (total 14 columns):\n",
      " #   Column        Dtype  \n",
      "---  ------        -----  \n",
      " 0   Unnamed: 0    int64  \n",
      " 1   rcvTime       float64\n",
      " 2   sendTime      float64\n",
      " 3   senderPseudo  float64\n",
      " 4   messageID     float64\n",
      " 5   pos_x         float64\n",
      " 6   pos_y         float64\n",
      " 7   spd_x         float64\n",
      " 8   spd_y         float64\n",
      " 9   acl_x         float64\n",
      " 10  acl_y         float64\n",
      " 11  hed_x         float64\n",
      " 12  hed_y         float64\n",
      " 13  nttack        int64  \n",
      "dtypes: float64(12), int64(2)\n",
      "memory usage: 596.0 MB\n"
     ]
    }
   ],
   "source": [
    "# getting information about the dataset\n",
    "df_train.info()"
   ]
  },
  {
   "cell_type": "code",
   "execution_count": 9,
   "metadata": {},
   "outputs": [
    {
     "name": "stdout",
     "output_type": "stream",
     "text": [
      "<class 'pandas.core.frame.DataFrame'>\n",
      "RangeIndex: 1395032 entries, 0 to 1395031\n",
      "Data columns (total 14 columns):\n",
      " #   Column        Non-Null Count    Dtype  \n",
      "---  ------        --------------    -----  \n",
      " 0   Unnamed: 0    1395032 non-null  int64  \n",
      " 1   rcvTime       1395032 non-null  float64\n",
      " 2   sendTime      1395032 non-null  float64\n",
      " 3   senderPseudo  1395032 non-null  float64\n",
      " 4   messageID     1395032 non-null  float64\n",
      " 5   pos_x         1395032 non-null  float64\n",
      " 6   pos_y         1395032 non-null  float64\n",
      " 7   spd_x         1395032 non-null  float64\n",
      " 8   spd_y         1395032 non-null  float64\n",
      " 9   acl_x         1395032 non-null  float64\n",
      " 10  acl_y         1395032 non-null  float64\n",
      " 11  hed_x         1395032 non-null  float64\n",
      " 12  hed_y         1395032 non-null  float64\n",
      " 13  nttack        1395032 non-null  int64  \n",
      "dtypes: float64(12), int64(2)\n",
      "memory usage: 149.0 MB\n"
     ]
    }
   ],
   "source": [
    "df_test.info()"
   ]
  },
  {
   "cell_type": "code",
   "execution_count": 11,
   "metadata": {},
   "outputs": [],
   "source": [
    "# Creating training and test sets\n",
    "x_train = df_train.drop(['nttack'],axis=1).values\n",
    "y_train = df_train['nttack'].values\n",
    "\n",
    "x_test = df_test.drop(['nttack'],axis=1).values\n",
    "y_test = df_test['nttack'].values"
   ]
  },
  {
   "cell_type": "code",
   "execution_count": 12,
   "metadata": {},
   "outputs": [],
   "source": [
    "# creating dataframe of x_train to get index of values\n",
    "dum_x_train = df_train.drop(['nttack'],axis=1)"
   ]
  },
  {
   "cell_type": "code",
   "execution_count": 13,
   "metadata": {},
   "outputs": [
    {
     "data": {
      "text/plain": [
       "(5580128, 13)"
      ]
     },
     "execution_count": 13,
     "metadata": {},
     "output_type": "execute_result"
    }
   ],
   "source": [
    "x_train.shape"
   ]
  },
  {
   "cell_type": "code",
   "execution_count": 16,
   "metadata": {},
   "outputs": [],
   "source": [
    "#Normalizing the data\n",
    "sc = StandardScaler()\n",
    "x_train  = sc.fit_transform(x_train)\n",
    "x_test = sc.transform(x_test)"
   ]
  },
  {
   "cell_type": "code",
   "execution_count": 17,
   "metadata": {},
   "outputs": [],
   "source": [
    "# reshaping the target variable\n",
    "y_test = y_test.reshape(-1,1)\n",
    "y_train = y_train.reshape(-1,1)\n",
    "y_train = to_categorical(y_train)\n",
    "y_test = to_categorical(y_test)"
   ]
  },
  {
   "cell_type": "code",
   "execution_count": 20,
   "metadata": {},
   "outputs": [],
   "source": [
    "def create_clients(X, y, initial='client'):\n",
    "\n",
    "    # creating a client name dict with keys as receiver id and value as data of those receiver id\n",
    "    client_names = {}\n",
    "    for clients in dum_x_train['receiver_id'].unique(): \n",
    "        ind = dum_x_train[dum_x_train['receiver_id'] == clients].index.to_list()\n",
    "        data = list(zip(X, y))\n",
    "        client_names[f'{initial}_{clients}'] = [data[i] for i in ind]\n",
    "        \n",
    "    return client_names"
   ]
  },
  {
   "cell_type": "code",
   "execution_count": null,
   "metadata": {},
   "outputs": [],
   "source": [
    "#create clients\n",
    "clients = create_clients(x_train, y_train, initial='client')"
   ]
  },
  {
   "cell_type": "code",
   "execution_count": 31,
   "metadata": {},
   "outputs": [
    {
     "data": {
      "text/plain": [
       "1290"
      ]
     },
     "execution_count": 31,
     "metadata": {},
     "output_type": "execute_result"
    }
   ],
   "source": [
    "len(clients)"
   ]
  },
  {
   "cell_type": "code",
   "execution_count": null,
   "metadata": {},
   "outputs": [],
   "source": [
    "def batch_data(data_shard, bs=8):\n",
    "    '''Takes in a clients data shard and create a tfds object of it\n",
    "    args:\n",
    "        shard: a data, label constituting a client's data shard\n",
    "        bs:batch size\n",
    "    return:\n",
    "        tfds object'''\n",
    "    #seperate shard into data and labels lists\n",
    "    data, label = zip(*data_shard)\n",
    "    dataset = tf.data.Dataset.from_tensor_slices((list(data), list(label)))\n",
    "    return dataset.batch(bs)"
   ]
  },
  {
   "cell_type": "code",
   "execution_count": null,
   "metadata": {},
   "outputs": [],
   "source": [
    "#process and batch the training data for each client\n",
    "clients_batched = dict()\n",
    "for (client_name, data) in clients.items():\n",
    "    clients_batched[client_name] = batch_data(data)\n",
    "#process and batch the test set  \n",
    "test_batched = tf.data.Dataset.from_tensor_slices((x_test, y_test)).batch(len(y_test))"
   ]
  },
  {
   "cell_type": "code",
   "execution_count": 36,
   "metadata": {},
   "outputs": [
    {
     "name": "stdout",
     "output_type": "stream",
     "text": [
      "<BatchDataset shapes: ((None, 14), (None,)), types: (tf.float64, tf.int32)>\n"
     ]
    }
   ],
   "source": [
    "print(clients_batched['client_21'])"
   ]
  },
  {
   "cell_type": "code",
   "execution_count": null,
   "metadata": {},
   "outputs": [],
   "source": [
    "class SimpleMLP:\n",
    "    @staticmethod\n",
    "    def build(shape, classes=2):\n",
    "        model = Sequential()\n",
    "        model.add(Dense(64, input_shape=(shape,) , activation='relu'))\n",
    "        model.add(Dropout(0.2))\n",
    "        model.add(Dense(128, activation = 'relu'))\n",
    "        model.add(Dropout(0.2))\n",
    "        model.add(Dense(256, activation = 'relu'))\n",
    "        model.add(Dense(classes, activation='softmax'))\n",
    "        return model"
   ]
  },
  {
   "cell_type": "code",
   "execution_count": 58,
   "metadata": {},
   "outputs": [
    {
     "data": {
      "text/plain": [
       "(1130329, 14)"
      ]
     },
     "execution_count": 58,
     "metadata": {},
     "output_type": "execute_result"
    }
   ],
   "source": [
    "x_train.shape"
   ]
  },
  {
   "cell_type": "code",
   "execution_count": 60,
   "metadata": {},
   "outputs": [
    {
     "data": {
      "text/plain": [
       "array([1., 0.], dtype=float32)"
      ]
     },
     "execution_count": 60,
     "metadata": {},
     "output_type": "execute_result"
    }
   ],
   "source": [
    "y_train[0]"
   ]
  },
  {
   "cell_type": "code",
   "execution_count": null,
   "metadata": {},
   "outputs": [],
   "source": [
    "lr = 0.01 \n",
    "loss='binary_crossentropy'\n",
    "metrics = ['accuracy']\n",
    "optimizer = Adam(learning_rate=lr, \n",
    "                decay=lr / 10)    "
   ]
  },
  {
   "cell_type": "code",
   "execution_count": null,
   "metadata": {},
   "outputs": [],
   "source": [
    "def weight_scalling_factor(clients_trn_data, client_name):\n",
    "    client_names = list(clients_trn_data.keys())\n",
    "    #get the bs\n",
    "    bs = list(clients_trn_data[client_name])[0][0].shape[0]\n",
    "    #first calculate the total training data points across clinets\n",
    "    global_count = sum([tf.data.experimental.cardinality(clients_trn_data[client_name]).numpy() for client_name in client_names])*bs\n",
    "    # get the total number of data points held by a client\n",
    "    local_count = tf.data.experimental.cardinality(clients_trn_data[client_name]).numpy()*bs\n",
    "    return local_count/global_count"
   ]
  },
  {
   "cell_type": "code",
   "execution_count": null,
   "metadata": {},
   "outputs": [],
   "source": [
    "def scale_model_weights(weight, scalar):\n",
    "    '''function for scaling a models weights'''\n",
    "    weight_final = []\n",
    "    steps = len(weight)\n",
    "    for i in range(steps):\n",
    "        weight_final.append(scalar * weight[i])\n",
    "    return weight_final"
   ]
  },
  {
   "cell_type": "code",
   "execution_count": null,
   "metadata": {},
   "outputs": [],
   "source": [
    "def sum_scaled_weights(scaled_weight_list):\n",
    "    '''Return the sum of the listed scaled weights. The is equivalent to scaled avg of the weights'''\n",
    "    avg_grad = list()\n",
    "    #get the average grad accross all client gradients\n",
    "    for grad_list_tuple in zip(*scaled_weight_list):\n",
    "        layer_mean = tf.math.reduce_sum(grad_list_tuple, axis=0)\n",
    "        avg_grad.append(layer_mean)\n",
    "\n",
    "    return avg_grad"
   ]
  },
  {
   "cell_type": "code",
   "execution_count": null,
   "metadata": {},
   "outputs": [],
   "source": [
    "def test_model(X_test, Y_test,  model, comm_round):\n",
    "    bce = tf.keras.losses.BinaryCrossentropy(from_logits=True)\n",
    "    #logits = model.predict(X_test, batch_size=100)\n",
    "    logits = model.predict(X_test)\n",
    "    loss = bce(Y_test, logits)\n",
    "    acc = accuracy_score(tf.argmax(logits, axis=1), tf.argmax(Y_test, axis=1))\n",
    "    print('Communication Round: {} | acc: {:.3%} | loss: {}'.format(comm_round, acc, loss))\n",
    "    return acc, loss"
   ]
  },
  {
   "cell_type": "code",
   "execution_count": 30,
   "metadata": {},
   "outputs": [
    {
     "name": "stdout",
     "output_type": "stream",
     "text": [
      "Communication Round: 0 | acc: 68.701% | loss: 0.6540147066116333\n",
      "Communication Round: 1 | acc: 70.803% | loss: 0.6393766403198242\n",
      "Communication Round: 2 | acc: 72.486% | loss: 0.6337358355522156\n"
     ]
    }
   ],
   "source": [
    "#initialize global model\n",
    "smlp_global = SimpleMLP()\n",
    "global_model = smlp_global.build(12, 1)\n",
    "\n",
    "global_acc_list = []\n",
    "global_precision_list = []\n",
    "global_recall_list = []\n",
    "\n",
    "comms_round = 3\n",
    "\n",
    "#commence global training loop\n",
    "for comm_round in range(comms_round):\n",
    "    \n",
    "    # get the global model's weights - will serve as the initial weights for all local models\n",
    "    global_weights = global_model.get_weights()\n",
    "    \n",
    "    #initial list to collect local model weights after scalling\n",
    "    scaled_local_weight_list = list()\n",
    "\n",
    "    #randomize client data - using keys\n",
    "    client_names= list(clients_batched.keys())\n",
    "    random.shuffle(client_names)\n",
    "    \n",
    "    #loop through each client and create new local model\n",
    "    for client in client_names:\n",
    "        \n",
    "        smlp_local = SimpleMLP()\n",
    "        local_model = smlp_local.build(12,1)\n",
    "        local_model.compile(loss=loss, \n",
    "                      optimizer=optimizer, \n",
    "                      metrics=metrics)\n",
    "        \n",
    "        #set local model weight to the weight of the global model\n",
    "        local_model.set_weights(global_weights)\n",
    "\n",
    "        local_model.fit(clients_batched[client], epochs=1, verbose=0)\n",
    "        \n",
    "        #scale the model weights and add to list\n",
    "        scaling_factor = weight_scalling_factor(clients_batched, client)\n",
    "        scaled_weights = scale_model_weights(local_model.get_weights(), scaling_factor)\n",
    "        scaled_local_weight_list.append(scaled_weights)\n",
    "        \n",
    "        #clear session to free memory after each communication round\n",
    "        K.clear_session()\n",
    "        \n",
    "    #to get the average over all the local model, we simply take the sum of the scaled weights\n",
    "    average_weights = sum_scaled_weights(scaled_local_weight_list)\n",
    "    \n",
    "    #update global model \n",
    "    global_model.set_weights(average_weights)\n",
    "    \n",
    "    model_json = global_model.to_json()\n",
    "    with open(\"global_model_edit.json\", \"w\") as json_file:\n",
    "        json_file.write(model_json)\n",
    "    \n",
    "    # serialize weights to HDF5\n",
    "    global_model.save_weights(\"model_edit.h5\")\n",
    "    \n",
    "    #test global model and print out metrics after each communications round\n",
    "    for(X_test, Y_test) in test_batched:\n",
    "        global_acc, global_loss = test_model(X_test, Y_test, global_model, comm_round)\n",
    "        global_acc_list.append(global_acc)  \n",
    "        y_pred = global_model.predict(X_test)\n",
    "        global_precision = precision_score(tf.argmax(Y_test, axis=1), tf.argmax(y_pred, axis=1), average='weighted', labels = [0,1])\n",
    "        global_precision_list.append(global_precision)\n",
    "        \n",
    "        global_recall = recall_score(tf.argmax(Y_test, axis=1), tf.argmax(y_pred, axis=1), average='weighted', labels = [0,1])\n",
    "        global_recall_list.append(global_recall)"
   ]
  },
  {
   "cell_type": "code",
   "execution_count": 31,
   "metadata": {},
   "outputs": [
    {
     "name": "stdout",
     "output_type": "stream",
     "text": [
      "Creating Model\n",
      "Compiling Model\n",
      "Model Compiled.\n",
      "Entering Communication Rounds\n",
      "Communication Round: 0 | acc: 83.937% | loss: 0.5912440419197083\n",
      "Communication Round: 1 | acc: 83.937% | loss: 0.5923143625259399\n",
      "Communication Round: 2 | acc: 83.937% | loss: 0.5938546061515808\n"
     ]
    }
   ],
   "source": [
    "sgd_dataset = tf.data.Dataset.from_tensor_slices((x_train, y_train)).batch(8)\n",
    "print(\"Creating Model\")\n",
    "smlp_sgd = SimpleMLP()\n",
    "sgd_model = smlp_sgd.build(12, 1) \n",
    "\n",
    "sgd_acc_list = []\n",
    "sgd_precision_list = []\n",
    "sgd_recall_list = []\n",
    "print(\"Compiling Model\")\n",
    "sgd_model.compile(loss=loss, \n",
    "              optimizer=optimizer, \n",
    "              metrics=metrics)\n",
    "\n",
    "print(\"Model Compiled.\\nEntering Communication Rounds\")\n",
    "# fit the SGD training data to model\n",
    "for i in range(3):\n",
    "\n",
    "    sgd_model.fit(x_train, y_train, epochs=1, verbose=0)\n",
    "    for(X_test, Y_test) in test_batched:\n",
    "        sgd_acc, sgd_loss = test_model(X_test, Y_test, sgd_model, i)\n",
    "        sgd_acc_list.append(sgd_acc)\n",
    "        \n",
    "        y_pred = sgd_model.predict(X_test)\n",
    "        \n",
    "        sgd_precision = precision_score(tf.argmax(Y_test, axis=1), tf.argmax(y_pred, axis=1), average='weighted', labels = [0,1])\n",
    "        sgd_precision_list.append(sgd_precision)\n",
    "        \n",
    "        sgd_recall = recall_score(tf.argmax(Y_test, axis=1), tf.argmax(y_pred, axis=1), average='weighted', labels = [0,1])\n",
    "        sgd_recall_list.append(sgd_recall)"
   ]
  },
  {
   "cell_type": "code",
   "execution_count": null,
   "metadata": {},
   "outputs": [],
   "source": [
    "model_json = sgd_model.to_json()\n",
    "with open(\"sgd_model.json\", \"w\") as json_file:\n",
    "    json_file.write(model_json)\n",
    "\n",
    "# serialize weights to HDF5\n",
    "sgd_model.save_weights(\"sgd_model.h5\")"
   ]
  },
  {
   "cell_type": "code",
   "execution_count": 32,
   "metadata": {},
   "outputs": [],
   "source": [
    "df = pd.DataFrame()\n",
    "df['FL_accuracy'] = global_acc_list\n",
    "df['SGD_accuracy'] = sgd_acc_list\n",
    "df['FL_precision'] = global_precision_list\n",
    "df['SGD_precision'] = sgd_precision_list\n",
    "df['FL_recall'] = global_recall_list\n",
    "df['SGD_recall'] = sgd_recall_list"
   ]
  },
  {
   "cell_type": "code",
   "execution_count": 33,
   "metadata": {},
   "outputs": [
    {
     "data": {
      "text/html": [
       "<div>\n",
       "<style scoped>\n",
       "    .dataframe tbody tr th:only-of-type {\n",
       "        vertical-align: middle;\n",
       "    }\n",
       "\n",
       "    .dataframe tbody tr th {\n",
       "        vertical-align: top;\n",
       "    }\n",
       "\n",
       "    .dataframe thead th {\n",
       "        text-align: right;\n",
       "    }\n",
       "</style>\n",
       "<table border=\"1\" class=\"dataframe\">\n",
       "  <thead>\n",
       "    <tr style=\"text-align: right;\">\n",
       "      <th></th>\n",
       "      <th>FL_accuracy</th>\n",
       "      <th>SGD_accuracy</th>\n",
       "      <th>FL_precision</th>\n",
       "      <th>SGD_precision</th>\n",
       "      <th>FL_recall</th>\n",
       "      <th>SGD_recall</th>\n",
       "    </tr>\n",
       "  </thead>\n",
       "  <tbody>\n",
       "    <tr>\n",
       "      <th>0</th>\n",
       "      <td>0.687005</td>\n",
       "      <td>0.839368</td>\n",
       "      <td>0.695345</td>\n",
       "      <td>0.877927</td>\n",
       "      <td>0.687005</td>\n",
       "      <td>0.839368</td>\n",
       "    </tr>\n",
       "    <tr>\n",
       "      <th>1</th>\n",
       "      <td>0.708029</td>\n",
       "      <td>0.839368</td>\n",
       "      <td>0.714326</td>\n",
       "      <td>0.877927</td>\n",
       "      <td>0.708029</td>\n",
       "      <td>0.839368</td>\n",
       "    </tr>\n",
       "    <tr>\n",
       "      <th>2</th>\n",
       "      <td>0.724860</td>\n",
       "      <td>0.839368</td>\n",
       "      <td>0.725434</td>\n",
       "      <td>0.877927</td>\n",
       "      <td>0.724860</td>\n",
       "      <td>0.839368</td>\n",
       "    </tr>\n",
       "  </tbody>\n",
       "</table>\n",
       "</div>"
      ],
      "text/plain": [
       "   FL_accuracy  SGD_accuracy  FL_precision  SGD_precision  FL_recall  \\\n",
       "0     0.687005      0.839368      0.695345       0.877927   0.687005   \n",
       "1     0.708029      0.839368      0.714326       0.877927   0.708029   \n",
       "2     0.724860      0.839368      0.725434       0.877927   0.724860   \n",
       "\n",
       "   SGD_recall  \n",
       "0    0.839368  \n",
       "1    0.839368  \n",
       "2    0.839368  "
      ]
     },
     "execution_count": 33,
     "metadata": {},
     "output_type": "execute_result"
    }
   ],
   "source": [
    "df.head(10)"
   ]
  },
  {
   "cell_type": "code",
   "execution_count": null,
   "metadata": {},
   "outputs": [],
   "source": [
    "df.to_csv(\"FL_SGD_metrics_values.csv\", index = False)"
   ]
  },
  {
   "cell_type": "code",
   "execution_count": null,
   "metadata": {},
   "outputs": [],
   "source": [
    "if not os.path.exists('Plots'):\n",
    "    os.mkdir('Plots')"
   ]
  },
  {
   "cell_type": "code",
   "execution_count": 34,
   "metadata": {},
   "outputs": [
    {
     "data": {
      "image/png": "[encoded data removed]",
      "text/plain": [
       "<Figure size 432x288 with 1 Axes>"
      ]
     },
     "metadata": {
      "needs_background": "light"
     },
     "output_type": "display_data"
    }
   ],
   "source": [
    "cr = np.arange(comms_round)\n",
    "plt.plot(cr, global_acc_list, 'g', label = 'FL')\n",
    "plt.plot(cr, sgd_acc_list, '--b', label = 'SGD')\n",
    "plt.title('FL vs SGD Accuracy')\n",
    "plt.xlabel('Communication Round/Epoch')\n",
    "plt.ylabel('Accuracy')\n",
    "plt.legend()\n",
    "# plt.savefig(f'Plots/FL vs SGD Accuracy.png', dpi=150)\n",
    "plt.show()"
   ]
  },
  {
   "cell_type": "code",
   "execution_count": 35,
   "metadata": {},
   "outputs": [
    {
     "data": {
      "image/png": "[encoded data removed]",
      "text/plain": [
       "<Figure size 432x288 with 1 Axes>"
      ]
     },
     "metadata": {
      "needs_background": "light"
     },
     "output_type": "display_data"
    }
   ],
   "source": [
    "cr = np.arange(comms_round)\n",
    "plt.plot(cr, global_precision_list, 'g', label = 'FL')\n",
    "plt.plot(cr, sgd_precision_list, '--b', label = 'SGD')\n",
    "plt.title('FL vs SGD Precision')\n",
    "plt.xlabel('Communication Round/Epoch')\n",
    "plt.ylabel('Precision')\n",
    "plt.legend()\n",
    "# plt.savefig(f'Plots/FL vs SGD Precision.png', dpi=150)\n",
    "plt.show()"
   ]
  },
  {
   "cell_type": "code",
   "execution_count": 36,
   "metadata": {},
   "outputs": [
    {
     "data": {
      "image/png": "[encoded data removed]",
      "text/plain": [
       "<Figure size 432x288 with 1 Axes>"
      ]
     },
     "metadata": {
      "needs_background": "light"
     },
     "output_type": "display_data"
    }
   ],
   "source": [
    "cr = np.arange(comms_round)\n",
    "plt.plot(cr, global_recall_list, 'g', label = 'FL')\n",
    "plt.plot(cr, sgd_recall_list, '--b', label = 'SGD')\n",
    "plt.title('FL vs SGD Recall')\n",
    "plt.xlabel('Communication Round/Epoch')\n",
    "plt.ylabel('Recall')\n",
    "plt.legend()\n",
    "# plt.savefig(f'Plots/FL vs SGD Recall.png', dpi=150)\n",
    "plt.show()"
   ]
  }
 ],
 "metadata": {
  "interpreter": {
   "hash": "f8f6b545180e3fd6ae00506a223d200508404de727a9711bd0fb529bed099c47"
  },
  "kernelspec": {
   "display_name": "Python 3.8.12 ('pycaret')",
   "language": "python",
   "name": "python3"
  },
  "language_info": {
   "codemirror_mode": {
    "name": "ipython",
    "version": 3
   },
   "file_extension": ".py",
   "mimetype": "text/x-python",
   "name": "python",
   "nbconvert_exporter": "python",
   "pygments_lexer": "ipython3",
   "version": "3.8.12"
  },
  "orig_nbformat": 4
 },
 "nbformat": 4,
 "nbformat_minor": 2
}
